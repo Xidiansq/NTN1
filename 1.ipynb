{
 "cells": [
  {
   "cell_type": "code",
   "execution_count": 11,
   "metadata": {},
   "outputs": [
    {
     "ename": "ValueError",
     "evalue": "The input must be a single CVXPY Expression, not a list. Combine Expressions using atoms such as bmat, hstack, and vstack.",
     "output_type": "error",
     "traceback": [
      "\u001b[1;31m---------------------------------------------------------------------------\u001b[0m",
      "\u001b[1;31mValueError\u001b[0m                                Traceback (most recent call last)",
      "Cell \u001b[1;32mIn[11], line 22\u001b[0m\n\u001b[0;32m     20\u001b[0m \u001b[38;5;28;01mfor\u001b[39;00m k \u001b[38;5;129;01min\u001b[39;00m \u001b[38;5;28mrange\u001b[39m(N):\n\u001b[0;32m     21\u001b[0m     interference \u001b[38;5;241m=\u001b[39m \u001b[38;5;28msum\u001b[39m([h[k, j] \u001b[38;5;241m*\u001b[39m P[j] \u001b[38;5;28;01mfor\u001b[39;00m j \u001b[38;5;129;01min\u001b[39;00m \u001b[38;5;28mrange\u001b[39m(N) \u001b[38;5;28;01mif\u001b[39;00m j \u001b[38;5;241m!=\u001b[39m k])\n\u001b[1;32m---> 22\u001b[0m     constraints\u001b[38;5;241m.\u001b[39mappend(h[k, k] \u001b[38;5;241m*\u001b[39m P[k] \u001b[38;5;241m>\u001b[39m\u001b[38;5;241m=\u001b[39m \u001b[43mnorm\u001b[49m\u001b[43m(\u001b[49m\u001b[43m[\u001b[49m\u001b[43mnoise_power\u001b[49m\u001b[43m,\u001b[49m\u001b[43m \u001b[49m\u001b[43minterference\u001b[49m\u001b[43m]\u001b[49m\u001b[43m)\u001b[49m)\n\u001b[0;32m     24\u001b[0m constraints\u001b[38;5;241m.\u001b[39mappend(\u001b[38;5;28msum\u001b[39m(P) \u001b[38;5;241m<\u001b[39m\u001b[38;5;241m=\u001b[39m P_max)\n\u001b[0;32m     26\u001b[0m \u001b[38;5;66;03m# Objective\u001b[39;00m\n",
      "File \u001b[1;32me:\\Anaconda3\\envs\\spin\\lib\\site-packages\\cvxpy\\atoms\\norm.py:52\u001b[0m, in \u001b[0;36mnorm\u001b[1;34m(x, p, axis, keepdims)\u001b[0m\n\u001b[0;32m     31\u001b[0m \u001b[38;5;28;01mdef\u001b[39;00m \u001b[38;5;21mnorm\u001b[39m(x, p: Union[\u001b[38;5;28mint\u001b[39m, \u001b[38;5;28mstr\u001b[39m] \u001b[38;5;241m=\u001b[39m \u001b[38;5;241m2\u001b[39m, axis\u001b[38;5;241m=\u001b[39m\u001b[38;5;28;01mNone\u001b[39;00m, keepdims: \u001b[38;5;28mbool\u001b[39m \u001b[38;5;241m=\u001b[39m \u001b[38;5;28;01mFalse\u001b[39;00m):\n\u001b[0;32m     32\u001b[0m \u001b[38;5;250m    \u001b[39m\u001b[38;5;124;03m\"\"\"Wrapper on the different norm atoms.\u001b[39;00m\n\u001b[0;32m     33\u001b[0m \n\u001b[0;32m     34\u001b[0m \u001b[38;5;124;03m    Parameters\u001b[39;00m\n\u001b[1;32m   (...)\u001b[0m\n\u001b[0;32m     50\u001b[0m \u001b[38;5;124;03m        An Expression representing the norm.\u001b[39;00m\n\u001b[0;32m     51\u001b[0m \u001b[38;5;124;03m    \"\"\"\u001b[39;00m\n\u001b[1;32m---> 52\u001b[0m     x \u001b[38;5;241m=\u001b[39m \u001b[43mExpression\u001b[49m\u001b[38;5;241;43m.\u001b[39;49m\u001b[43mcast_to_const\u001b[49m\u001b[43m(\u001b[49m\u001b[43mx\u001b[49m\u001b[43m)\u001b[49m\n\u001b[0;32m     53\u001b[0m     \u001b[38;5;66;03m# matrix norms take precedence\u001b[39;00m\n\u001b[0;32m     54\u001b[0m     num_nontrivial_idxs \u001b[38;5;241m=\u001b[39m \u001b[38;5;28msum\u001b[39m([d \u001b[38;5;241m>\u001b[39m \u001b[38;5;241m1\u001b[39m \u001b[38;5;28;01mfor\u001b[39;00m d \u001b[38;5;129;01min\u001b[39;00m x\u001b[38;5;241m.\u001b[39mshape])\n",
      "File \u001b[1;32me:\\Anaconda3\\envs\\spin\\lib\\site-packages\\cvxpy\\expressions\\expression.py:560\u001b[0m, in \u001b[0;36mExpression.cast_to_const\u001b[1;34m(expr)\u001b[0m\n\u001b[0;32m    558\u001b[0m     \u001b[38;5;28;01mfor\u001b[39;00m elem \u001b[38;5;129;01min\u001b[39;00m expr:\n\u001b[0;32m    559\u001b[0m         \u001b[38;5;28;01mif\u001b[39;00m \u001b[38;5;28misinstance\u001b[39m(elem, Expression):\n\u001b[1;32m--> 560\u001b[0m             \u001b[38;5;28;01mraise\u001b[39;00m \u001b[38;5;167;01mValueError\u001b[39;00m(\n\u001b[0;32m    561\u001b[0m                 \u001b[38;5;124m\"\u001b[39m\u001b[38;5;124mThe input must be a single CVXPY Expression, not a list. \u001b[39m\u001b[38;5;124m\"\u001b[39m\n\u001b[0;32m    562\u001b[0m                 \u001b[38;5;124m\"\u001b[39m\u001b[38;5;124mCombine Expressions using atoms such as bmat, hstack, and vstack.\u001b[39m\u001b[38;5;124m\"\u001b[39m\n\u001b[0;32m    563\u001b[0m             )\n\u001b[0;32m    564\u001b[0m \u001b[38;5;28;01mreturn\u001b[39;00m expr \u001b[38;5;28;01mif\u001b[39;00m \u001b[38;5;28misinstance\u001b[39m(expr, Expression) \u001b[38;5;28;01melse\u001b[39;00m cvxtypes\u001b[38;5;241m.\u001b[39mconstant()(expr)\n",
      "\u001b[1;31mValueError\u001b[0m: The input must be a single CVXPY Expression, not a list. Combine Expressions using atoms such as bmat, hstack, and vstack."
     ]
    }
   ],
   "source": [
    "from cvxpy import *\n",
    "import numpy as np\n",
    "\n",
    "# Problem setup\n",
    "N = 8  # Number of beam positions\n",
    "P_max = 250  # Maximum power (W)\n",
    "noise_power = 1e-10  # Noise power (W)\n",
    "h = np.random.rand(N, N)  # Channel gain matrix (NxN)\n",
    "B = 200e6  # Bandwidth (Hz)\n",
    "T_b = 1e-3  # Time slot duration (s)\n",
    "alpha = np.random.rand(N)  # Slack parameter alpha\n",
    "\n",
    "# Variables\n",
    "\n",
    "# Variables\n",
    "P = Variable(N, nonneg=True)\n",
    "constraints = []\n",
    "\n",
    "# SOCP constraints\n",
    "for k in range(N):\n",
    "    interference = sum([h[k, j] * P[j] for j in range(N) if j != k])\n",
    "    constraints.append(h[k, k] * P[k] >= norm([noise_power, interference]))\n",
    "\n",
    "constraints.append(sum(P) <= P_max)\n",
    "\n",
    "# Objective\n",
    "objective = Maximize(-sum(alpha / P))\n",
    "\n",
    "# Solve\n",
    "problem = Problem(objective, constraints)\n",
    "problem.solve()\n",
    "\n",
    "print(\"Optimal Power (SOCP):\", P.value)"
   ]
  },
  {
   "cell_type": "code",
   "execution_count": 9,
   "metadata": {},
   "outputs": [
    {
     "ename": "TypeError",
     "evalue": "'Variable' object does not support item assignment",
     "output_type": "error",
     "traceback": [
      "\u001b[1;31m---------------------------------------------------------------------------\u001b[0m",
      "\u001b[1;31mTypeError\u001b[0m                                 Traceback (most recent call last)",
      "Cell \u001b[1;32mIn[9], line 21\u001b[0m\n\u001b[0;32m     19\u001b[0m \u001b[38;5;28;01mfor\u001b[39;00m k \u001b[38;5;129;01min\u001b[39;00m \u001b[38;5;28mrange\u001b[39m(N):\n\u001b[0;32m     20\u001b[0m     interference \u001b[38;5;241m=\u001b[39m cp\u001b[38;5;241m.\u001b[39msum([h[k, j] \u001b[38;5;241m*\u001b[39m P[j] \u001b[38;5;28;01mfor\u001b[39;00m j \u001b[38;5;129;01min\u001b[39;00m \u001b[38;5;28mrange\u001b[39m(N) \u001b[38;5;28;01mif\u001b[39;00m j \u001b[38;5;241m!=\u001b[39m k])\n\u001b[1;32m---> 21\u001b[0m     \u001b[43mSINR\u001b[49m\u001b[43m[\u001b[49m\u001b[43mk\u001b[49m\u001b[43m]\u001b[49m \u001b[38;5;241m=\u001b[39m h[k, k] \u001b[38;5;241m*\u001b[39m P[k] \u001b[38;5;241m/\u001b[39m (noise_power \u001b[38;5;241m+\u001b[39m interference)\n\u001b[0;32m     22\u001b[0m     constraints\u001b[38;5;241m.\u001b[39mappend(B \u001b[38;5;241m*\u001b[39m T_b \u001b[38;5;241m*\u001b[39m cp\u001b[38;5;241m.\u001b[39mlog(\u001b[38;5;241m1\u001b[39m \u001b[38;5;241m+\u001b[39m SINR[k]) \u001b[38;5;241m<\u001b[39m\u001b[38;5;241m=\u001b[39m \u001b[38;5;241m100\u001b[39m \u001b[38;5;241m*\u001b[39m \u001b[38;5;241m1e3\u001b[39m)\n\u001b[0;32m     24\u001b[0m constraints\u001b[38;5;241m.\u001b[39mappend(cp\u001b[38;5;241m.\u001b[39msum(P) \u001b[38;5;241m<\u001b[39m\u001b[38;5;241m=\u001b[39m P_max)\n",
      "\u001b[1;31mTypeError\u001b[0m: 'Variable' object does not support item assignment"
     ]
    }
   ],
   "source": [
    "import cvxpy as cp\n",
    "import numpy as np\n",
    "\n",
    "# Problem setup\n",
    "N = 8  # Number of beam positions\n",
    "P_max = 250  # Maximum power (W)\n",
    "noise_power = 1e-10  # Noise power (W)\n",
    "h = np.random.rand(N, N)  # Channel gain matrix (NxN)\n",
    "B = 200e6  # Bandwidth (Hz)\n",
    "T_b = 1e-3  # Time slot duration (s)\n",
    "alpha = np.random.rand(N)  # Slack parameter alpha\n",
    "\n",
    "# Variables\n",
    "P = cp.Variable(N, nonneg=True)  # Transmission power\n",
    "SINR = cp.Variable(N)\n",
    "\n",
    "# Constraints\n",
    "constraints = []\n",
    "for k in range(N):\n",
    "    interference = cp.sum([h[k, j] * P[j] for j in range(N) if j != k])\n",
    "    SINR[k] = h[k, k] * P[k] / (noise_power + interference)\n",
    "    constraints.append(B * T_b * cp.log(1 + SINR[k]) <= 100 * 1e3)\n",
    "\n",
    "constraints.append(cp.sum(P) <= P_max)\n",
    "\n",
    "# Objective function\n",
    "objective = cp.Maximize(cp.sum(-alpha / SINR))\n",
    "\n",
    "# Solve\n",
    "problem = cp.Problem(objective, constraints)\n",
    "problem.solve()\n",
    "\n",
    "print(\"Optimal Power:\", P.value)"
   ]
  },
  {
   "cell_type": "code",
   "execution_count": 12,
   "metadata": {},
   "outputs": [
    {
     "name": "stdout",
     "output_type": "stream",
     "text": [
      "Optimal Power: [1. 1. 1. 1. 1. 1. 1. 1.]\n"
     ]
    },
    {
     "name": "stderr",
     "output_type": "stream",
     "text": [
      "C:\\Users\\flyvideo\\AppData\\Local\\Temp\\ipykernel_17596\\2136584790.py:7: RuntimeWarning: divide by zero encountered in divide\n",
      "  obj = -np.sum(alpha / SINR) + lambda_ * (np.sum(P) - P_max)\n",
      "e:\\Anaconda3\\envs\\spin\\lib\\site-packages\\scipy\\optimize\\_numdiff.py:576: RuntimeWarning: invalid value encountered in subtract\n",
      "  df = fun(x) - f0\n"
     ]
    }
   ],
   "source": [
    "from scipy.optimize import minimize\n",
    "\n",
    "# Lagrangian function\n",
    "def lagrangian(P, lambda_):\n",
    "    interference = np.array([np.sum(h[k, :] * P) - h[k, k] * P[k] for k in range(N)])\n",
    "    SINR = h.diagonal() * P / (noise_power + interference)\n",
    "    obj = -np.sum(alpha / SINR) + lambda_ * (np.sum(P) - P_max)\n",
    "    return obj\n",
    "\n",
    "# Optimize\n",
    "lambda_ = 1  # Initial Lagrange multiplier\n",
    "res = minimize(lambda P: lagrangian(P, lambda_), np.ones(N), bounds=[(0, None)] * N)\n",
    "print(\"Optimal Power:\", res.x)"
   ]
  }
 ],
 "metadata": {
  "kernelspec": {
   "display_name": "spin",
   "language": "python",
   "name": "python3"
  },
  "language_info": {
   "codemirror_mode": {
    "name": "ipython",
    "version": 3
   },
   "file_extension": ".py",
   "mimetype": "text/x-python",
   "name": "python",
   "nbconvert_exporter": "python",
   "pygments_lexer": "ipython3",
   "version": "3.8.18"
  }
 },
 "nbformat": 4,
 "nbformat_minor": 2
}
