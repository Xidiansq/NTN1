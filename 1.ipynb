{
 "cells": [
  {
   "cell_type": "code",
   "execution_count": null,
   "metadata": {},
   "outputs": [],
   "source": [
    "import numpy as np\n",
    "import random\n",
    "import matplotlib.pyplot as plt\n",
    "\n",
    "#initial population\n",
    "population = 100\n",
    "genes = 100\n",
    "generations = 100\n",
    "\n",
    "pop = np.random.randint(0,2, size=(population,genes))\n",
    "print(pop)\n"
   ]
  },
  {
   "cell_type": "code",
   "execution_count": null,
   "metadata": {},
   "outputs": [],
   "source": [
    "fitness = np.sum(pop,axis=1)\n",
    "plt.hist(fitness)\n"
   ]
  },
  {
   "cell_type": "code",
   "execution_count": null,
   "metadata": {},
   "outputs": [],
   "source": [
    "def elite_selection(fitness):\n",
    "    return fitness.argsort()[-2:][::-1]  \n",
    "\n",
    "parents = elite_selection(fitness)\n",
    "print(pop[parents[0]])\n"
   ]
  },
  {
   "cell_type": "code",
   "execution_count": null,
   "metadata": {},
   "outputs": [],
   "source": [
    "def crossover(parent1, parent2, crossover_rate):\n",
    "    # children are copies of parents by default\n",
    "    child1, child2 = parent1.copy(), parent2.copy()  \n",
    "    # check for recombination\n",
    "    if random.random() < crossover_rate:\n",
    "        # select crossover point that is not on the end of the string\n",
    "        pt = random.randint(1, len(parent1)-2)\n",
    "        # perform crossover    \n",
    "        child1 = np.concatenate((parent1[:pt], parent2[pt:]))\n",
    "        child2 = np.concatenate((parent2[:pt], parent1[pt:]))\n",
    "    return [child1, child2]\n",
    "\n",
    "crossover(pop[parents[0]],pop[parents[1]], .5)\n"
   ]
  },
  {
   "cell_type": "code",
   "execution_count": null,
   "metadata": {},
   "outputs": [],
   "source": [
    "def mutation(individual, mutation_rate):\n",
    "    for i in range(len(individual)):\n",
    "        # check for a mutation\n",
    "        if random.random() < mutation_rate:\n",
    "            # flip the bit\n",
    "            individual[i] = 1 - individual[i]\n",
    "    return individual\n",
    "\n",
    "mutation(pop[parents[0]], .5)\n"
   ]
  },
  {
   "cell_type": "code",
   "execution_count": null,
   "metadata": {},
   "outputs": [],
   "source": [
    "def simple_GA(pop, crossover_rate=.5, mutation_rate=.05):\n",
    "    fitness = np.sum(pop,axis=1) \n",
    "    parents = elite_selection(fitness)\n",
    "    children = np.zeros((population,genes))  \n",
    "    for i in range(population):\n",
    "        offspring = crossover(pop[parents[0]],pop[parents[1]], crossover_rate)\n",
    "        children[i] = mutation(offspring[0],mutation_rate)  \n",
    "    return children\n",
    "\n",
    "simple_GA(pop)\n"
   ]
  },
  {
   "cell_type": "code",
   "execution_count": null,
   "metadata": {},
   "outputs": [],
   "source": [
    "#initial population\n",
    "pop = np.random.randint(0,2, size=(population,genes))\n",
    "\n",
    "for i in range(generations):\n",
    "    pop = simple_GA(pop)\n",
    "    fitness = np.sum(pop,axis=1)\n",
    "    plt.hist(fitness)\n",
    "    plt.show()\n",
    "    print(f\"Generation {i+1}\")\n",
    "    print(f\"    Max fitness {np.max(fitness)}\")\n",
    "    print(f\"    Min fitness {np.min(fitness)}\")\n",
    "    print(f\"    Mean fitness {np.mean(fitness)}\")\n",
    "    print(f\"    Std fitness {np.std(fitness)}\")\n"
   ]
  },
  {
   "cell_type": "code",
   "execution_count": 11,
   "metadata": {},
   "outputs": [
    {
     "data": {
      "text/plain": [
       "(2, 2)"
      ]
     },
     "execution_count": 11,
     "metadata": {},
     "output_type": "execute_result"
    }
   ],
   "source": [
    "bs_state=[{\n",
    "        \"user_sa\": [],\n",
    "        \"user_bs\": [],\n",
    "        \"user_unserve\": []\n",
    "    } for _ in range((2))] \n",
    "bs_state[1][\"user_bs\"].append((1,1))\n",
    "bs_state[1][\"user_bs\"].append((2,2))\n",
    "bs_state[1][\"user_bs\"][1]"
   ]
  },
  {
   "cell_type": "code",
   "execution_count": null,
   "metadata": {},
   "outputs": [],
   "source": [
    "self.bs_sa_state=[{\n",
    "        \"user_sa_inter\": [],\n",
    "        \"user_bs_power\": [],\n",
    "        \"bs_power_fator\": [] } for _ in range((Parameters.bs_num))] "
   ]
  }
 ],
 "metadata": {
  "kernelspec": {
   "display_name": "spin",
   "language": "python",
   "name": "python3"
  },
  "language_info": {
   "codemirror_mode": {
    "name": "ipython",
    "version": 3
   },
   "file_extension": ".py",
   "mimetype": "text/x-python",
   "name": "python",
   "nbconvert_exporter": "python",
   "pygments_lexer": "ipython3",
   "version": "3.8.18"
  }
 },
 "nbformat": 4,
 "nbformat_minor": 2
}
