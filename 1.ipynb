{
 "cells": [
  {
   "cell_type": "code",
   "execution_count": null,
   "metadata": {},
   "outputs": [],
   "source": [
    "import numpy as np\n",
    "import random\n",
    "import matplotlib.pyplot as plt\n",
    "\n",
    "#initial population\n",
    "population = 100\n",
    "genes = 100\n",
    "generations = 100\n",
    "\n",
    "pop = np.random.randint(0,2, size=(population,genes))\n",
    "print(pop)\n"
   ]
  },
  {
   "cell_type": "code",
   "execution_count": null,
   "metadata": {},
   "outputs": [],
   "source": [
    "fitness = np.sum(pop,axis=1)\n",
    "plt.hist(fitness)\n"
   ]
  },
  {
   "cell_type": "code",
   "execution_count": null,
   "metadata": {},
   "outputs": [],
   "source": [
    "def elite_selection(fitness):\n",
    "    return fitness.argsort()[-2:][::-1]  \n",
    "\n",
    "parents = elite_selection(fitness)\n",
    "print(pop[parents[0]])\n"
   ]
  },
  {
   "cell_type": "code",
   "execution_count": null,
   "metadata": {},
   "outputs": [],
   "source": [
    "def crossover(parent1, parent2, crossover_rate):\n",
    "    # children are copies of parents by default\n",
    "    child1, child2 = parent1.copy(), parent2.copy()  \n",
    "    # check for recombination\n",
    "    if random.random() < crossover_rate:\n",
    "        # select crossover point that is not on the end of the string\n",
    "        pt = random.randint(1, len(parent1)-2)\n",
    "        # perform crossover    \n",
    "        child1 = np.concatenate((parent1[:pt], parent2[pt:]))\n",
    "        child2 = np.concatenate((parent2[:pt], parent1[pt:]))\n",
    "    return [child1, child2]\n",
    "\n",
    "crossover(pop[parents[0]],pop[parents[1]], .5)\n"
   ]
  },
  {
   "cell_type": "code",
   "execution_count": null,
   "metadata": {},
   "outputs": [],
   "source": [
    "def mutation(individual, mutation_rate):\n",
    "    for i in range(len(individual)):\n",
    "        # check for a mutation\n",
    "        if random.random() < mutation_rate:\n",
    "            # flip the bit\n",
    "            individual[i] = 1 - individual[i]\n",
    "    return individual\n",
    "\n",
    "mutation(pop[parents[0]], .5)\n"
   ]
  },
  {
   "cell_type": "code",
   "execution_count": null,
   "metadata": {},
   "outputs": [],
   "source": [
    "def simple_GA(pop, crossover_rate=.5, mutation_rate=.05):\n",
    "    fitness = np.sum(pop,axis=1) \n",
    "    parents = elite_selection(fitness)\n",
    "    children = np.zeros((population,genes))  \n",
    "    for i in range(population):\n",
    "        offspring = crossover(pop[parents[0]],pop[parents[1]], crossover_rate)\n",
    "        children[i] = mutation(offspring[0],mutation_rate)  \n",
    "    return children\n",
    "\n",
    "simple_GA(pop)\n"
   ]
  },
  {
   "cell_type": "code",
   "execution_count": null,
   "metadata": {},
   "outputs": [],
   "source": [
    "#initial population\n",
    "pop = np.random.randint(0,2, size=(population,genes))\n",
    "\n",
    "for i in range(generations):\n",
    "    pop = simple_GA(pop)\n",
    "    fitness = np.sum(pop,axis=1)\n",
    "    plt.hist(fitness)\n",
    "    plt.show()\n",
    "    print(f\"Generation {i+1}\")\n",
    "    print(f\"    Max fitness {np.max(fitness)}\")\n",
    "    print(f\"    Min fitness {np.min(fitness)}\")\n",
    "    print(f\"    Mean fitness {np.mean(fitness)}\")\n",
    "    print(f\"    Std fitness {np.std(fitness)}\")\n"
   ]
  },
  {
   "cell_type": "code",
   "execution_count": 11,
   "metadata": {},
   "outputs": [
    {
     "data": {
      "text/plain": [
       "(2, 2)"
      ]
     },
     "execution_count": 11,
     "metadata": {},
     "output_type": "execute_result"
    }
   ],
   "source": [
    "bs_state=[{\n",
    "        \"user_sa\": [],\n",
    "        \"user_bs\": [],\n",
    "        \"user_unserve\": []\n",
    "    } for _ in range((2))] \n",
    "bs_state[1][\"user_bs\"].append((1,1))\n",
    "bs_state[1][\"user_bs\"].append((2,2))\n",
    "bs_state[1][\"user_bs\"][1]"
   ]
  },
  {
   "cell_type": "code",
   "execution_count": 5,
   "metadata": {},
   "outputs": [
    {
     "ename": "TypeError",
     "evalue": "list indices must be integers or slices, not str",
     "output_type": "error",
     "traceback": [
      "\u001b[1;31m---------------------------------------------------------------------------\u001b[0m",
      "\u001b[1;31mTypeError\u001b[0m                                 Traceback (most recent call last)",
      "Cell \u001b[1;32mIn[5], line 13\u001b[0m\n\u001b[0;32m     11\u001b[0m bs_state[\u001b[38;5;241m0\u001b[39m][\u001b[38;5;124m\"\u001b[39m\u001b[38;5;124muser_bs_req\u001b[39m\u001b[38;5;124m\"\u001b[39m]\u001b[38;5;241m.\u001b[39mappend(\u001b[38;5;241m2\u001b[39m)\n\u001b[0;32m     12\u001b[0m bs_state[\u001b[38;5;241m0\u001b[39m][\u001b[38;5;124m\"\u001b[39m\u001b[38;5;124muser_bs_req\u001b[39m\u001b[38;5;124m\"\u001b[39m]\u001b[38;5;241m.\u001b[39mappend(\u001b[38;5;241m3\u001b[39m)\n\u001b[1;32m---> 13\u001b[0m \u001b[38;5;28mprint\u001b[39m(\u001b[43mbs_state\u001b[49m\u001b[43m[\u001b[49m\u001b[38;5;124;43m\"\u001b[39;49m\u001b[38;5;124;43muser_bs\u001b[39;49m\u001b[38;5;124;43m\"\u001b[39;49m\u001b[43m]\u001b[49m)\n",
      "\u001b[1;31mTypeError\u001b[0m: list indices must be integers or slices, not str"
     ]
    }
   ],
   "source": [
    "bs_state=[{\n",
    "        \"user_sa\": [],\n",
    "        \"user_bs\": [],\n",
    "        \"user_unserve\": [],\n",
    "        \"user_bs_req\":  [],\n",
    "    } for _ in range((2))]\n",
    "bs_state.append({\"SINR\":False})\n",
    "bs_state[0][\"user_bs\"].append(1)\n",
    "bs_state[1][\"user_bs\"].append(2)\n",
    "bs_state[0][\"user_bs_req\"].append(1)\n",
    "bs_state[0][\"user_bs_req\"].append(2)\n",
    "bs_state[0][\"user_bs_req\"].append(3)\n",
    "print(bs_state[\"user_bs\"])\n"
   ]
  },
  {
   "cell_type": "code",
   "execution_count": 20,
   "metadata": {},
   "outputs": [
    {
     "name": "stdout",
     "output_type": "stream",
     "text": [
      "[1 2 0 3 4 5 6]\n",
      "[4 5 6]\n",
      "False\n"
     ]
    }
   ],
   "source": [
    "import numpy as np\n",
    "x = np.array([3, 1, 2,4,5,6,7])\n",
    "idx = np.argsort(x)\n",
    "print(idx)\n",
    "print(idx[-3:])\n",
    "print(np.isin(10,x))"
   ]
  },
  {
   "cell_type": "code",
   "execution_count": 3,
   "metadata": {},
   "outputs": [
    {
     "name": "stdout",
     "output_type": "stream",
     "text": [
      "B 中没有出现在 A 中的元素: [4]\n"
     ]
    }
   ],
   "source": [
    "import numpy as np\n",
    "\n",
    "# 示例数组\n",
    "A = np.array([1, 2, 3])\n",
    "B = np.array([1,2,3,4])\n",
    "\n",
    "# 找到 B 中没有出现在 A 中的元素\n",
    "difference = np.setdiff1d(B, A)\n",
    "\n",
    "print(\"B 中没有出现在 A 中的元素:\", difference)\n"
   ]
  },
  {
   "cell_type": "code",
   "execution_count": 8,
   "metadata": {},
   "outputs": [
    {
     "name": "stdout",
     "output_type": "stream",
     "text": [
      "[1 0 1 4 1]\n",
      "[ 0  2 12 12 12 12  4]\n"
     ]
    }
   ],
   "source": [
    "import numpy as np\n",
    "\n",
    "# 原数组\n",
    "arr = np.array([0, 2, 3, 3, 3, 3, 4])\n",
    "\n",
    "# 统计每个元素的出现次数\n",
    "counts = np.bincount(arr)  # 返回数组中每个值的计数，索引为元素值\n",
    "print(counts)\n",
    "# 根据原数组生成新数组\n",
    "result = arr * counts[arr]\n",
    "\n",
    "print(result)\n"
   ]
  }
 ],
 "metadata": {
  "kernelspec": {
   "display_name": "spin",
   "language": "python",
   "name": "python3"
  },
  "language_info": {
   "codemirror_mode": {
    "name": "ipython",
    "version": 3
   },
   "file_extension": ".py",
   "mimetype": "text/x-python",
   "name": "python",
   "nbconvert_exporter": "python",
   "pygments_lexer": "ipython3",
   "version": "3.8.18"
  }
 },
 "nbformat": 4,
 "nbformat_minor": 2
}
