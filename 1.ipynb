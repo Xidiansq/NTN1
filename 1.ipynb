{
 "cells": [
  {
   "cell_type": "code",
   "execution_count": 11,
   "metadata": {},
   "outputs": [
    {
     "ename": "ValueError",
     "evalue": "The input must be a single CVXPY Expression, not a list. Combine Expressions using atoms such as bmat, hstack, and vstack.",
     "output_type": "error",
     "traceback": [
      "\u001b[1;31m---------------------------------------------------------------------------\u001b[0m",
      "\u001b[1;31mValueError\u001b[0m                                Traceback (most recent call last)",
      "Cell \u001b[1;32mIn[11], line 22\u001b[0m\n\u001b[0;32m     20\u001b[0m \u001b[38;5;28;01mfor\u001b[39;00m k \u001b[38;5;129;01min\u001b[39;00m \u001b[38;5;28mrange\u001b[39m(N):\n\u001b[0;32m     21\u001b[0m     interference \u001b[38;5;241m=\u001b[39m \u001b[38;5;28msum\u001b[39m([h[k, j] \u001b[38;5;241m*\u001b[39m P[j] \u001b[38;5;28;01mfor\u001b[39;00m j \u001b[38;5;129;01min\u001b[39;00m \u001b[38;5;28mrange\u001b[39m(N) \u001b[38;5;28;01mif\u001b[39;00m j \u001b[38;5;241m!=\u001b[39m k])\n\u001b[1;32m---> 22\u001b[0m     constraints\u001b[38;5;241m.\u001b[39mappend(h[k, k] \u001b[38;5;241m*\u001b[39m P[k] \u001b[38;5;241m>\u001b[39m\u001b[38;5;241m=\u001b[39m \u001b[43mnorm\u001b[49m\u001b[43m(\u001b[49m\u001b[43m[\u001b[49m\u001b[43mnoise_power\u001b[49m\u001b[43m,\u001b[49m\u001b[43m \u001b[49m\u001b[43minterference\u001b[49m\u001b[43m]\u001b[49m\u001b[43m)\u001b[49m)\n\u001b[0;32m     24\u001b[0m constraints\u001b[38;5;241m.\u001b[39mappend(\u001b[38;5;28msum\u001b[39m(P) \u001b[38;5;241m<\u001b[39m\u001b[38;5;241m=\u001b[39m P_max)\n\u001b[0;32m     26\u001b[0m \u001b[38;5;66;03m# Objective\u001b[39;00m\n",
      "File \u001b[1;32me:\\Anaconda3\\envs\\spin\\lib\\site-packages\\cvxpy\\atoms\\norm.py:52\u001b[0m, in \u001b[0;36mnorm\u001b[1;34m(x, p, axis, keepdims)\u001b[0m\n\u001b[0;32m     31\u001b[0m \u001b[38;5;28;01mdef\u001b[39;00m \u001b[38;5;21mnorm\u001b[39m(x, p: Union[\u001b[38;5;28mint\u001b[39m, \u001b[38;5;28mstr\u001b[39m] \u001b[38;5;241m=\u001b[39m \u001b[38;5;241m2\u001b[39m, axis\u001b[38;5;241m=\u001b[39m\u001b[38;5;28;01mNone\u001b[39;00m, keepdims: \u001b[38;5;28mbool\u001b[39m \u001b[38;5;241m=\u001b[39m \u001b[38;5;28;01mFalse\u001b[39;00m):\n\u001b[0;32m     32\u001b[0m \u001b[38;5;250m    \u001b[39m\u001b[38;5;124;03m\"\"\"Wrapper on the different norm atoms.\u001b[39;00m\n\u001b[0;32m     33\u001b[0m \n\u001b[0;32m     34\u001b[0m \u001b[38;5;124;03m    Parameters\u001b[39;00m\n\u001b[1;32m   (...)\u001b[0m\n\u001b[0;32m     50\u001b[0m \u001b[38;5;124;03m        An Expression representing the norm.\u001b[39;00m\n\u001b[0;32m     51\u001b[0m \u001b[38;5;124;03m    \"\"\"\u001b[39;00m\n\u001b[1;32m---> 52\u001b[0m     x \u001b[38;5;241m=\u001b[39m \u001b[43mExpression\u001b[49m\u001b[38;5;241;43m.\u001b[39;49m\u001b[43mcast_to_const\u001b[49m\u001b[43m(\u001b[49m\u001b[43mx\u001b[49m\u001b[43m)\u001b[49m\n\u001b[0;32m     53\u001b[0m     \u001b[38;5;66;03m# matrix norms take precedence\u001b[39;00m\n\u001b[0;32m     54\u001b[0m     num_nontrivial_idxs \u001b[38;5;241m=\u001b[39m \u001b[38;5;28msum\u001b[39m([d \u001b[38;5;241m>\u001b[39m \u001b[38;5;241m1\u001b[39m \u001b[38;5;28;01mfor\u001b[39;00m d \u001b[38;5;129;01min\u001b[39;00m x\u001b[38;5;241m.\u001b[39mshape])\n",
      "File \u001b[1;32me:\\Anaconda3\\envs\\spin\\lib\\site-packages\\cvxpy\\expressions\\expression.py:560\u001b[0m, in \u001b[0;36mExpression.cast_to_const\u001b[1;34m(expr)\u001b[0m\n\u001b[0;32m    558\u001b[0m     \u001b[38;5;28;01mfor\u001b[39;00m elem \u001b[38;5;129;01min\u001b[39;00m expr:\n\u001b[0;32m    559\u001b[0m         \u001b[38;5;28;01mif\u001b[39;00m \u001b[38;5;28misinstance\u001b[39m(elem, Expression):\n\u001b[1;32m--> 560\u001b[0m             \u001b[38;5;28;01mraise\u001b[39;00m \u001b[38;5;167;01mValueError\u001b[39;00m(\n\u001b[0;32m    561\u001b[0m                 \u001b[38;5;124m\"\u001b[39m\u001b[38;5;124mThe input must be a single CVXPY Expression, not a list. \u001b[39m\u001b[38;5;124m\"\u001b[39m\n\u001b[0;32m    562\u001b[0m                 \u001b[38;5;124m\"\u001b[39m\u001b[38;5;124mCombine Expressions using atoms such as bmat, hstack, and vstack.\u001b[39m\u001b[38;5;124m\"\u001b[39m\n\u001b[0;32m    563\u001b[0m             )\n\u001b[0;32m    564\u001b[0m \u001b[38;5;28;01mreturn\u001b[39;00m expr \u001b[38;5;28;01mif\u001b[39;00m \u001b[38;5;28misinstance\u001b[39m(expr, Expression) \u001b[38;5;28;01melse\u001b[39;00m cvxtypes\u001b[38;5;241m.\u001b[39mconstant()(expr)\n",
      "\u001b[1;31mValueError\u001b[0m: The input must be a single CVXPY Expression, not a list. Combine Expressions using atoms such as bmat, hstack, and vstack."
     ]
    }
   ],
   "source": [
    "from cvxpy import *\n",
    "import numpy as np\n",
    "\n",
    "# Problem setup\n",
    "N = 8  # Number of beam positions\n",
    "P_max = 250  # Maximum power (W)\n",
    "noise_power = 1e-10  # Noise power (W)\n",
    "h = np.random.rand(N, N)  # Channel gain matrix (NxN)\n",
    "B = 200e6  # Bandwidth (Hz)\n",
    "T_b = 1e-3  # Time slot duration (s)\n",
    "alpha = np.random.rand(N)  # Slack parameter alpha\n",
    "\n",
    "# Variables\n",
    "\n",
    "# Variables\n",
    "P = Variable(N, nonneg=True)\n",
    "constraints = []\n",
    "\n",
    "# SOCP constraints\n",
    "for k in range(N):\n",
    "    interference = sum([h[k, j] * P[j] for j in range(N) if j != k])\n",
    "    constraints.append(h[k, k] * P[k] >= norm([noise_power, interference]))\n",
    "\n",
    "constraints.append(sum(P) <= P_max)\n",
    "\n",
    "# Objective\n",
    "objective = Maximize(-sum(alpha / P))\n",
    "\n",
    "# Solve\n",
    "problem = Problem(objective, constraints)\n",
    "problem.solve()\n",
    "\n",
    "print(\"Optimal Power (SOCP):\", P.value)"
   ]
  },
  {
   "cell_type": "code",
   "execution_count": 1,
   "metadata": {},
   "outputs": [
    {
     "name": "stderr",
     "output_type": "stream",
     "text": [
      "d:\\Program\\Anaconda\\envs\\spin\\lib\\site-packages\\cvxpy\\expressions\\expression.py:650: UserWarning: \n",
      "This use of ``*`` has resulted in matrix multiplication.\n",
      "Using ``*`` for matrix multiplication has been deprecated since CVXPY 1.1.\n",
      "    Use ``*`` for matrix-scalar and vector-scalar multiplication.\n",
      "    Use ``@`` for matrix-matrix and matrix-vector multiplication.\n",
      "    Use ``multiply`` for elementwise multiplication.\n",
      "This code path has been hit 1 times so far.\n",
      "\n",
      "  warnings.warn(msg, UserWarning)\n",
      "d:\\Program\\Anaconda\\envs\\spin\\lib\\site-packages\\cvxpy\\problems\\problem.py:1407: UserWarning: Solution may be inaccurate. Try another solver, adjusting the solver settings, or solve with verbose=True for more information.\n",
      "  warnings.warn(\n",
      "d:\\Program\\Anaconda\\envs\\spin\\lib\\site-packages\\cvxpy\\expressions\\expression.py:650: UserWarning: \n",
      "This use of ``*`` has resulted in matrix multiplication.\n",
      "Using ``*`` for matrix multiplication has been deprecated since CVXPY 1.1.\n",
      "    Use ``*`` for matrix-scalar and vector-scalar multiplication.\n",
      "    Use ``@`` for matrix-matrix and matrix-vector multiplication.\n",
      "    Use ``multiply`` for elementwise multiplication.\n",
      "This code path has been hit 2 times so far.\n",
      "\n",
      "  warnings.warn(msg, UserWarning)\n"
     ]
    },
    {
     "ename": "ValueError",
     "evalue": "matmul: Input operand 1 does not have enough dimensions (has 0, gufunc core with signature (n?,k),(k,m?)->(n?,m?) requires 1)",
     "output_type": "error",
     "traceback": [
      "\u001b[1;31m---------------------------------------------------------------------------\u001b[0m",
      "\u001b[1;31mValueError\u001b[0m                                Traceback (most recent call last)",
      "Cell \u001b[1;32mIn[1], line 33\u001b[0m\n\u001b[0;32m     30\u001b[0m iter_count \u001b[38;5;241m+\u001b[39m\u001b[38;5;241m=\u001b[39m \u001b[38;5;241m1\u001b[39m\n\u001b[0;32m     32\u001b[0m \u001b[38;5;66;03m# Step 1: 计算中间变量 y_star\u001b[39;00m\n\u001b[1;32m---> 33\u001b[0m interference \u001b[38;5;241m=\u001b[39m \u001b[43mH_gain\u001b[49m\u001b[43m \u001b[49m\u001b[38;5;241;43m@\u001b[39;49m\u001b[43m \u001b[49m\u001b[43mp_temp\u001b[49m \u001b[38;5;241m-\u001b[39m np\u001b[38;5;241m.\u001b[39mdiag(H_gain) \u001b[38;5;241m*\u001b[39m p_temp\n\u001b[0;32m     34\u001b[0m y_star \u001b[38;5;241m=\u001b[39m np\u001b[38;5;241m.\u001b[39msqrt(np\u001b[38;5;241m.\u001b[39mdiag(H_gain) \u001b[38;5;241m*\u001b[39m p_temp) \u001b[38;5;241m/\u001b[39m (interference \u001b[38;5;241m+\u001b[39m \u001b[38;5;241m1\u001b[39m)\n\u001b[0;32m     36\u001b[0m \u001b[38;5;66;03m# Step 2: 使用 cvxpy 优化功率分配\u001b[39;00m\n",
      "\u001b[1;31mValueError\u001b[0m: matmul: Input operand 1 does not have enough dimensions (has 0, gufunc core with signature (n?,k),(k,m?)->(n?,m?) requires 1)"
     ]
    }
   ],
   "source": [
    "import numpy as np\n",
    "import cvxpy as cp\n",
    "import matplotlib.pyplot as plt\n",
    "\n",
    "# 参数设置\n",
    "U = 7  # 用户数量\n",
    "C = 7  # 基站数量\n",
    "P = 50  # 最大功率 (dBm)\n",
    "Max_iter = 50  # 最大迭代次数\n",
    "epsilon = 1e-5  # 收敛阈值\n",
    "B = 10e6  # 带宽 (Hz)\n",
    "\n",
    "# 功率转换函数 (dBm 转线性功率)\n",
    "def db2pow(db):\n",
    "    return 10 ** (db / 10)\n",
    "\n",
    "# 随机生成信道增益 (假设的信道矩阵，用户需要根据具体情况生成)\n",
    "np.random.seed(1)\n",
    "H_gain = np.random.rand(U, C)\n",
    "\n",
    "# 初始化变量\n",
    "p_temp = np.full(C, db2pow(P) / 2)  # 等功率初始化\n",
    "A = np.ones((U, C)) - np.eye(U)  # 干扰矩阵\n",
    "sum_rate = []  # 记录每次迭代的和速率\n",
    "sum_rate_old = 100  # 初始和速率\n",
    "iter_count = 0\n",
    "\n",
    "# 迭代优化\n",
    "while iter_count < Max_iter:\n",
    "    iter_count += 1\n",
    "\n",
    "    # Step 1: 计算中间变量 y_star\n",
    "    interference = H_gain @ p_temp - np.diag(H_gain) * p_temp\n",
    "    y_star = np.sqrt(np.diag(H_gain) * p_temp) / (interference + 1)\n",
    "\n",
    "    # Step 2: 使用 cvxpy 优化功率分配\n",
    "    p = cp.Variable(C, nonneg=True)\n",
    "    objective = cp.sum(\n",
    "        cp.log(\n",
    "            1 + 2 * y_star * cp.sqrt(cp.diag(H_gain) @ p) - y_star ** 2 * (H_gain @ p + 1)\n",
    "        )\n",
    "    )\n",
    "    constraints = [\n",
    "        p >= 0,\n",
    "        p <= db2pow(P),\n",
    "    ]\n",
    "    problem = cp.Problem(cp.Maximize(objective), constraints)\n",
    "    problem.solve(solver=cp.SCS)\n",
    "\n",
    "    # 检查求解结果\n",
    "    if p.value is not None and not np.isnan(problem.value):\n",
    "        sum_rate.append(problem.value)\n",
    "\n",
    "    # 更新功率分配\n",
    "    p_temp = p.value\n",
    "\n",
    "    # 判断收敛\n",
    "    if abs(problem.value - sum_rate_old) / sum_rate_old < epsilon:\n",
    "        break\n",
    "    else:\n",
    "        sum_rate_old = problem.value\n",
    "\n",
    "# 绘图\n",
    "plt.plot(range(1, len(sum_rate) + 1), np.array(sum_rate) / np.log(2) * B / 1e6, '-b*', linewidth=1)\n",
    "plt.grid(True)\n",
    "plt.xlabel('Iteration number')\n",
    "plt.ylabel('Sum rate (Mbps)')\n",
    "plt.title('Sum Rate Convergence')\n",
    "plt.show()\n"
   ]
  },
  {
   "cell_type": "code",
   "execution_count": 12,
   "metadata": {},
   "outputs": [
    {
     "name": "stdout",
     "output_type": "stream",
     "text": [
      "[144940.24465912 101823.69706142 203884.31801722 121106.8270244\n",
      " 209247.21876251 126129.63523296 121570.01248282]\n",
      "[2.10076745e+10 1.03680653e+10 4.15688151e+10 1.46668636e+10\n",
      " 4.37843986e+10 1.59086849e+10 1.47792679e+10]\n"
     ]
    },
    {
     "data": {
      "text/plain": [
       "Expression(CONCAVE, NONNEGATIVE, ())"
      ]
     },
     "execution_count": 12,
     "metadata": {},
     "output_type": "execute_result"
    }
   ],
   "source": [
    "H_gain = np.random.rand(7,7)\n",
    "p_temp = np.full(C, db2pow(P) / 2)\n",
    "c=np.diag(H_gain) * p_temp\n",
    "print((H_gain @ p_temp - np.diag(H_gain) * p_temp))\n",
    "print((H_gain @ p_temp - np.diag(H_gain) * p_temp)**2)\n",
    "cp.sqrt(cp.diag(H_gain) @ p)"
   ]
  },
  {
   "cell_type": "code",
   "execution_count": 14,
   "metadata": {},
   "outputs": [
    {
     "name": "stdout",
     "output_type": "stream",
     "text": [
      "diag_mat(param312, 0)\n"
     ]
    }
   ],
   "source": [
    "import cvxpy as cp\n",
    "import numpy as np\n",
    "\n",
    "# 示例矩阵\n",
    "A = cp.Parameter((3, 3), value=np.array([[1, 2, 3],\n",
    "                                         [4, 5, 6],\n",
    "                                         [7, 8, 9]]))\n",
    "\n",
    "# 提取对角线元素\n",
    "diag_A = cp.diag(A)\n",
    "print(diag_A)  # 输出为 [1, 5, 9]\n"
   ]
  },
  {
   "cell_type": "code",
   "execution_count": 13,
   "metadata": {},
   "outputs": [
    {
     "name": "stdout",
     "output_type": "stream",
     "text": [
      "-16.999999999538367\n",
      "[4.00000052e+00 9.99995441e-01 4.78922535e-12 4.02352057e-12\n",
      " 1.00000000e+00]\n"
     ]
    },
    {
     "name": "stderr",
     "output_type": "stream",
     "text": [
      "d:\\Program\\Anaconda\\envs\\spin\\lib\\site-packages\\cvxpy\\expressions\\expression.py:650: UserWarning: \n",
      "This use of ``*`` has resulted in matrix multiplication.\n",
      "Using ``*`` for matrix multiplication has been deprecated since CVXPY 1.1.\n",
      "    Use ``*`` for matrix-scalar and vector-scalar multiplication.\n",
      "    Use ``@`` for matrix-matrix and matrix-vector multiplication.\n",
      "    Use ``multiply`` for elementwise multiplication.\n",
      "This code path has been hit 3 times so far.\n",
      "\n",
      "  warnings.warn(msg, UserWarning)\n",
      "d:\\Program\\Anaconda\\envs\\spin\\lib\\site-packages\\cvxpy\\expressions\\expression.py:650: UserWarning: \n",
      "This use of ``*`` has resulted in matrix multiplication.\n",
      "Using ``*`` for matrix multiplication has been deprecated since CVXPY 1.1.\n",
      "    Use ``*`` for matrix-scalar and vector-scalar multiplication.\n",
      "    Use ``@`` for matrix-matrix and matrix-vector multiplication.\n",
      "    Use ``multiply`` for elementwise multiplication.\n",
      "This code path has been hit 4 times so far.\n",
      "\n",
      "  warnings.warn(msg, UserWarning)\n"
     ]
    }
   ],
   "source": [
    "import cvxpy as cp\n",
    "import numpy as np\n",
    "import pandas as pd\n",
    "from matplotlib import pyplot as plt\n",
    "\n",
    "c1 = np.array([1, 1, 3, 4, 2])\n",
    "c2 = np.array([-8, -2, -3, -1, -2])\n",
    "a = np.array([[1,1,1,1,1], [1,2,2,1,6], [2,1,6,0,0], [0,0,1,1,5]])\n",
    "\n",
    "b = np.array([400, 800, 200, 200])\n",
    "\n",
    "x = cp.Variable(5, integer=True)\n",
    "\n",
    "obj = cp.Minimize(c1*x**2+c2*x)\n",
    "\n",
    "con = [0 <= x, x <= 99, a@x <= b]\n",
    "\n",
    "prob = cp.Problem(obj, con)\n",
    "\n",
    "prob.solve(solver='ECOS_BB')\n",
    "\n",
    "print(prob.value)\n",
    "print(x.value)"
   ]
  },
  {
   "cell_type": "code",
   "execution_count": 15,
   "metadata": {},
   "outputs": [
    {
     "name": "stdout",
     "output_type": "stream",
     "text": [
      "Optimal value: 0.9999999999272098\n",
      "Optimal solution: 0.9999999999636049\n"
     ]
    }
   ],
   "source": [
    "import cvxpy as cp\n",
    "\n",
    "# 定义变量\n",
    "x = cp.Variable()\n",
    "\n",
    "# 定义目标函数\n",
    "objective = cp.Minimize(x**2)\n",
    "\n",
    "# 定义约束\n",
    "constraints = [x >= 1]\n",
    "\n",
    "# 定义优化问题\n",
    "problem = cp.Problem(objective, constraints)\n",
    "\n",
    "# 求解问题，使用 SCS 求解器\n",
    "problem.solve(solver=cp.SCS)\n",
    "\n",
    "# 输出结果\n",
    "print(\"Optimal value:\", problem.value)\n",
    "print(\"Optimal solution:\", x.value)\n"
   ]
  },
  {
   "cell_type": "code",
   "execution_count": 16,
   "metadata": {},
   "outputs": [
    {
     "name": "stderr",
     "output_type": "stream",
     "text": [
      "d:\\Program\\Anaconda\\envs\\spin\\lib\\site-packages\\cvxpy\\expressions\\expression.py:650: UserWarning: \n",
      "This use of ``*`` has resulted in matrix multiplication.\n",
      "Using ``*`` for matrix multiplication has been deprecated since CVXPY 1.1.\n",
      "    Use ``*`` for matrix-scalar and vector-scalar multiplication.\n",
      "    Use ``@`` for matrix-matrix and matrix-vector multiplication.\n",
      "    Use ``multiply`` for elementwise multiplication.\n",
      "This code path has been hit 5 times so far.\n",
      "\n",
      "  warnings.warn(msg, UserWarning)\n",
      "d:\\Program\\Anaconda\\envs\\spin\\lib\\site-packages\\cvxpy\\expressions\\expression.py:650: UserWarning: \n",
      "This use of ``*`` has resulted in matrix multiplication.\n",
      "Using ``*`` for matrix multiplication has been deprecated since CVXPY 1.1.\n",
      "    Use ``*`` for matrix-scalar and vector-scalar multiplication.\n",
      "    Use ``@`` for matrix-matrix and matrix-vector multiplication.\n",
      "    Use ``multiply`` for elementwise multiplication.\n",
      "This code path has been hit 6 times so far.\n",
      "\n",
      "  warnings.warn(msg, UserWarning)\n"
     ]
    },
    {
     "ename": "ValueError",
     "evalue": "Incompatible dimensions (7, 1) (7, 1)",
     "output_type": "error",
     "traceback": [
      "\u001b[1;31m---------------------------------------------------------------------------\u001b[0m",
      "\u001b[1;31mValueError\u001b[0m                                Traceback (most recent call last)",
      "Cell \u001b[1;32mIn[16], line 10\u001b[0m\n\u001b[0;32m      6\u001b[0m p \u001b[38;5;241m=\u001b[39m cp\u001b[38;5;241m.\u001b[39mVariable((C, \u001b[38;5;241m1\u001b[39m))  \u001b[38;5;66;03m# 例如：假设 p 是一个 C x 1 的变量\u001b[39;00m\n\u001b[0;32m      8\u001b[0m \u001b[38;5;66;03m# 构建表达式\u001b[39;00m\n\u001b[0;32m      9\u001b[0m expression \u001b[38;5;241m=\u001b[39m cp\u001b[38;5;241m.\u001b[39mlog(\n\u001b[1;32m---> 10\u001b[0m     \u001b[38;5;241m1\u001b[39m \u001b[38;5;241m+\u001b[39m \u001b[38;5;241m2\u001b[39m \u001b[38;5;241m*\u001b[39m y_star \u001b[38;5;241m*\u001b[39m cp\u001b[38;5;241m.\u001b[39msqrt(cp\u001b[38;5;241m.\u001b[39mdiag(H_gain) \u001b[38;5;241m@\u001b[39m p) \u001b[38;5;241m-\u001b[39m \u001b[43m(\u001b[49m\u001b[43my_star\u001b[49m\u001b[43m \u001b[49m\u001b[38;5;241;43m*\u001b[39;49m\u001b[38;5;241;43m*\u001b[39;49m\u001b[43m \u001b[49m\u001b[38;5;241;43m2\u001b[39;49m\u001b[43m)\u001b[49m\u001b[43m \u001b[49m\u001b[38;5;241;43m*\u001b[39;49m\u001b[43m \u001b[49m\u001b[43m(\u001b[49m\u001b[43mH_gain\u001b[49m\u001b[43m \u001b[49m\u001b[38;5;241;43m@\u001b[39;49m\u001b[43m \u001b[49m\u001b[43mp\u001b[49m\u001b[43m \u001b[49m\u001b[38;5;241;43m+\u001b[39;49m\u001b[43m \u001b[49m\u001b[38;5;241;43m1\u001b[39;49m\u001b[43m)\u001b[49m\n\u001b[0;32m     11\u001b[0m )\n\u001b[0;32m     13\u001b[0m \u001b[38;5;66;03m# 打印表达式\u001b[39;00m\n\u001b[0;32m     14\u001b[0m \u001b[38;5;28mprint\u001b[39m(expression)\n",
      "File \u001b[1;32md:\\Program\\Anaconda\\envs\\spin\\lib\\site-packages\\cvxpy\\expressions\\expression.py:50\u001b[0m, in \u001b[0;36m_cast_other.<locals>.cast_op\u001b[1;34m(self, other)\u001b[0m\n\u001b[0;32m     47\u001b[0m \u001b[38;5;250m\u001b[39m\u001b[38;5;124;03m\"\"\"A wrapped binary operator that can handle non-Expression arguments.\u001b[39;00m\n\u001b[0;32m     48\u001b[0m \u001b[38;5;124;03m\"\"\"\u001b[39;00m\n\u001b[0;32m     49\u001b[0m other \u001b[38;5;241m=\u001b[39m \u001b[38;5;28mself\u001b[39m\u001b[38;5;241m.\u001b[39mcast_to_const(other)\n\u001b[1;32m---> 50\u001b[0m \u001b[38;5;28;01mreturn\u001b[39;00m \u001b[43mbinary_op\u001b[49m\u001b[43m(\u001b[49m\u001b[38;5;28;43mself\u001b[39;49m\u001b[43m,\u001b[49m\u001b[43m \u001b[49m\u001b[43mother\u001b[49m\u001b[43m)\u001b[49m\n",
      "File \u001b[1;32md:\\Program\\Anaconda\\envs\\spin\\lib\\site-packages\\cvxpy\\expressions\\expression.py:653\u001b[0m, in \u001b[0;36mExpression.__mul__\u001b[1;34m(self, other)\u001b[0m\n\u001b[0;32m    651\u001b[0m     warnings\u001b[38;5;241m.\u001b[39mwarn(msg, \u001b[38;5;167;01mDeprecationWarning\u001b[39;00m)\n\u001b[0;32m    652\u001b[0m     __STAR_MATMUL_COUNT__ \u001b[38;5;241m+\u001b[39m\u001b[38;5;241m=\u001b[39m \u001b[38;5;241m1\u001b[39m\n\u001b[1;32m--> 653\u001b[0m \u001b[38;5;28;01mreturn\u001b[39;00m \u001b[43mcvxtypes\u001b[49m\u001b[38;5;241;43m.\u001b[39;49m\u001b[43mmatmul_expr\u001b[49m\u001b[43m(\u001b[49m\u001b[43m)\u001b[49m\u001b[43m(\u001b[49m\u001b[38;5;28;43mself\u001b[39;49m\u001b[43m,\u001b[49m\u001b[43m \u001b[49m\u001b[43mother\u001b[49m\u001b[43m)\u001b[49m\n",
      "File \u001b[1;32md:\\Program\\Anaconda\\envs\\spin\\lib\\site-packages\\cvxpy\\atoms\\affine\\binary_operators.py:53\u001b[0m, in \u001b[0;36mBinaryOperator.__init__\u001b[1;34m(self, lh_exp, rh_exp)\u001b[0m\n\u001b[0;32m     52\u001b[0m \u001b[38;5;28;01mdef\u001b[39;00m \u001b[38;5;21m__init__\u001b[39m(\u001b[38;5;28mself\u001b[39m, lh_exp, rh_exp) \u001b[38;5;241m-\u001b[39m\u001b[38;5;241m>\u001b[39m \u001b[38;5;28;01mNone\u001b[39;00m:\n\u001b[1;32m---> 53\u001b[0m     \u001b[38;5;28;43msuper\u001b[39;49m\u001b[43m(\u001b[49m\u001b[43mBinaryOperator\u001b[49m\u001b[43m,\u001b[49m\u001b[43m \u001b[49m\u001b[38;5;28;43mself\u001b[39;49m\u001b[43m)\u001b[49m\u001b[38;5;241;43m.\u001b[39;49m\u001b[38;5;21;43m__init__\u001b[39;49m\u001b[43m(\u001b[49m\u001b[43mlh_exp\u001b[49m\u001b[43m,\u001b[49m\u001b[43m \u001b[49m\u001b[43mrh_exp\u001b[49m\u001b[43m)\u001b[49m\n",
      "File \u001b[1;32md:\\Program\\Anaconda\\envs\\spin\\lib\\site-packages\\cvxpy\\atoms\\atom.py:51\u001b[0m, in \u001b[0;36mAtom.__init__\u001b[1;34m(self, *args)\u001b[0m\n\u001b[0;32m     49\u001b[0m \u001b[38;5;28mself\u001b[39m\u001b[38;5;241m.\u001b[39margs \u001b[38;5;241m=\u001b[39m [Atom\u001b[38;5;241m.\u001b[39mcast_to_const(arg) \u001b[38;5;28;01mfor\u001b[39;00m arg \u001b[38;5;129;01min\u001b[39;00m args]\n\u001b[0;32m     50\u001b[0m \u001b[38;5;28mself\u001b[39m\u001b[38;5;241m.\u001b[39mvalidate_arguments()\n\u001b[1;32m---> 51\u001b[0m \u001b[38;5;28mself\u001b[39m\u001b[38;5;241m.\u001b[39m_shape \u001b[38;5;241m=\u001b[39m \u001b[38;5;28;43mself\u001b[39;49m\u001b[38;5;241;43m.\u001b[39;49m\u001b[43mshape_from_args\u001b[49m\u001b[43m(\u001b[49m\u001b[43m)\u001b[49m\n\u001b[0;32m     52\u001b[0m \u001b[38;5;28;01mif\u001b[39;00m \u001b[38;5;28mlen\u001b[39m(\u001b[38;5;28mself\u001b[39m\u001b[38;5;241m.\u001b[39m_shape) \u001b[38;5;241m>\u001b[39m \u001b[38;5;241m2\u001b[39m:\n\u001b[0;32m     53\u001b[0m     \u001b[38;5;28;01mraise\u001b[39;00m \u001b[38;5;167;01mValueError\u001b[39;00m(\u001b[38;5;124m\"\u001b[39m\u001b[38;5;124mAtoms must be at most 2D.\u001b[39m\u001b[38;5;124m\"\u001b[39m)\n",
      "File \u001b[1;32md:\\Program\\Anaconda\\envs\\spin\\lib\\site-packages\\cvxpy\\atoms\\affine\\binary_operators.py:123\u001b[0m, in \u001b[0;36mMulExpression.shape_from_args\u001b[1;34m(self)\u001b[0m\n\u001b[0;32m    120\u001b[0m \u001b[38;5;28;01mdef\u001b[39;00m \u001b[38;5;21mshape_from_args\u001b[39m(\u001b[38;5;28mself\u001b[39m) \u001b[38;5;241m-\u001b[39m\u001b[38;5;241m>\u001b[39m Tuple[\u001b[38;5;28mint\u001b[39m, \u001b[38;5;241m.\u001b[39m\u001b[38;5;241m.\u001b[39m\u001b[38;5;241m.\u001b[39m]:\n\u001b[0;32m    121\u001b[0m \u001b[38;5;250m    \u001b[39m\u001b[38;5;124;03m\"\"\"Returns the (row, col) shape of the expression.\u001b[39;00m\n\u001b[0;32m    122\u001b[0m \u001b[38;5;124;03m    \"\"\"\u001b[39;00m\n\u001b[1;32m--> 123\u001b[0m     \u001b[38;5;28;01mreturn\u001b[39;00m \u001b[43mu\u001b[49m\u001b[38;5;241;43m.\u001b[39;49m\u001b[43mshape\u001b[49m\u001b[38;5;241;43m.\u001b[39;49m\u001b[43mmul_shapes\u001b[49m\u001b[43m(\u001b[49m\u001b[38;5;28;43mself\u001b[39;49m\u001b[38;5;241;43m.\u001b[39;49m\u001b[43margs\u001b[49m\u001b[43m[\u001b[49m\u001b[38;5;241;43m0\u001b[39;49m\u001b[43m]\u001b[49m\u001b[38;5;241;43m.\u001b[39;49m\u001b[43mshape\u001b[49m\u001b[43m,\u001b[49m\u001b[43m \u001b[49m\u001b[38;5;28;43mself\u001b[39;49m\u001b[38;5;241;43m.\u001b[39;49m\u001b[43margs\u001b[49m\u001b[43m[\u001b[49m\u001b[38;5;241;43m1\u001b[39;49m\u001b[43m]\u001b[49m\u001b[38;5;241;43m.\u001b[39;49m\u001b[43mshape\u001b[49m\u001b[43m)\u001b[49m\n",
      "File \u001b[1;32md:\\Program\\Anaconda\\envs\\spin\\lib\\site-packages\\cvxpy\\utilities\\shape.py:144\u001b[0m, in \u001b[0;36mmul_shapes\u001b[1;34m(lh_shape, rh_shape)\u001b[0m\n\u001b[0;32m    142\u001b[0m lh_old \u001b[38;5;241m=\u001b[39m lh_shape\n\u001b[0;32m    143\u001b[0m rh_old \u001b[38;5;241m=\u001b[39m rh_shape\n\u001b[1;32m--> 144\u001b[0m lh_shape, rh_shape, shape \u001b[38;5;241m=\u001b[39m \u001b[43mmul_shapes_promote\u001b[49m\u001b[43m(\u001b[49m\u001b[43mlh_shape\u001b[49m\u001b[43m,\u001b[49m\u001b[43m \u001b[49m\u001b[43mrh_shape\u001b[49m\u001b[43m)\u001b[49m\n\u001b[0;32m    145\u001b[0m \u001b[38;5;28;01mif\u001b[39;00m lh_shape \u001b[38;5;241m!=\u001b[39m lh_old:\n\u001b[0;32m    146\u001b[0m     shape \u001b[38;5;241m=\u001b[39m shape[\u001b[38;5;241m1\u001b[39m:]\n",
      "File \u001b[1;32md:\\Program\\Anaconda\\envs\\spin\\lib\\site-packages\\cvxpy\\utilities\\shape.py:110\u001b[0m, in \u001b[0;36mmul_shapes_promote\u001b[1;34m(lh_shape, rh_shape)\u001b[0m\n\u001b[0;32m    108\u001b[0m rh_mat_shape \u001b[38;5;241m=\u001b[39m rh_shape[\u001b[38;5;241m-\u001b[39m\u001b[38;5;241m2\u001b[39m:]\n\u001b[0;32m    109\u001b[0m \u001b[38;5;28;01mif\u001b[39;00m lh_mat_shape[\u001b[38;5;241m1\u001b[39m] \u001b[38;5;241m!=\u001b[39m rh_mat_shape[\u001b[38;5;241m0\u001b[39m]:\n\u001b[1;32m--> 110\u001b[0m     \u001b[38;5;28;01mraise\u001b[39;00m \u001b[38;5;167;01mValueError\u001b[39;00m(\u001b[38;5;124m\"\u001b[39m\u001b[38;5;124mIncompatible dimensions \u001b[39m\u001b[38;5;132;01m%s\u001b[39;00m\u001b[38;5;124m \u001b[39m\u001b[38;5;132;01m%s\u001b[39;00m\u001b[38;5;124m\"\u001b[39m \u001b[38;5;241m%\u001b[39m (\n\u001b[0;32m    111\u001b[0m         lh_shape, rh_shape))\n\u001b[0;32m    112\u001b[0m \u001b[38;5;28;01mif\u001b[39;00m lh_shape[:\u001b[38;5;241m-\u001b[39m\u001b[38;5;241m2\u001b[39m] \u001b[38;5;241m!=\u001b[39m rh_shape[:\u001b[38;5;241m-\u001b[39m\u001b[38;5;241m2\u001b[39m]:\n\u001b[0;32m    113\u001b[0m     \u001b[38;5;28;01mraise\u001b[39;00m \u001b[38;5;167;01mValueError\u001b[39;00m(\u001b[38;5;124m\"\u001b[39m\u001b[38;5;124mIncompatible dimensions \u001b[39m\u001b[38;5;132;01m%s\u001b[39;00m\u001b[38;5;124m \u001b[39m\u001b[38;5;132;01m%s\u001b[39;00m\u001b[38;5;124m\"\u001b[39m \u001b[38;5;241m%\u001b[39m (\n\u001b[0;32m    114\u001b[0m         lh_shape, rh_shape))\n",
      "\u001b[1;31mValueError\u001b[0m: Incompatible dimensions (7, 1) (7, 1)"
     ]
    }
   ],
   "source": [
    "import cvxpy as cp\n",
    "\n",
    "# 假设y_star, H_gain, p 是已定义的 cvxpy 变量或常量\n",
    "y_star = cp.Variable((C, 1))  # 例如：假设 y_star 是一个 C x 1 的变量\n",
    "H_gain = cp.Variable((U, C))  # 例如：假设 H_gain 是一个 U x C 的矩阵\n",
    "p = cp.Variable((C, 1))  # 例如：假设 p 是一个 C x 1 的变量\n",
    "\n",
    "# 构建表达式\n",
    "expression = cp.log(\n",
    "    1 + 2 * y_star * cp.sqrt(cp.diag(H_gain) @ p) - (y_star ** 2) * (H_gain @ p + 1)\n",
    ")\n",
    "\n",
    "# 打印表达式\n",
    "print(expression)\n"
   ]
  },
  {
   "cell_type": "code",
   "execution_count": 22,
   "metadata": {},
   "outputs": [
    {
     "name": "stdout",
     "output_type": "stream",
     "text": [
      "Optimal value: 19.99999999825794\n",
      "Optimal variable x: 9.999999984636883\n",
      "Optimal variable y: 9.661391355327779e-09\n"
     ]
    },
    {
     "name": "stderr",
     "output_type": "stream",
     "text": [
      "d:\\Program\\Anaconda\\envs\\spin\\lib\\site-packages\\cvxpy\\reductions\\solvers\\solving_chain.py:356: FutureWarning: \n",
      "    You specified your problem should be solved by ECOS. Starting in\n",
      "    CXVPY 1.6.0, ECOS will no longer be installed by default with CVXPY.\n",
      "    Please either add ECOS as an explicit install dependency to your project\n",
      "    or switch to our new default solver, Clarabel, by either not specifying a\n",
      "    solver argument or specifying ``solver=cp.CLARABEL``. To suppress this\n",
      "    warning while continuing to use ECOS, you can filter this warning using\n",
      "    Python's ``warnings`` module until you are using 1.6.0.\n",
      "    \n",
      "  warnings.warn(ECOS_DEP_DEPRECATION_MSG, FutureWarning)\n"
     ]
    }
   ],
   "source": [
    "import cvxpy as cp\n",
    "\n",
    "x = cp.Variable()\n",
    "y = cp.Variable()\n",
    "\n",
    "objective = cp.Minimize(2*x + 3*y)\n",
    "constraint = [x + y >= 10, x >= 0, y >= 0]\n",
    "\n",
    "problem = cp.Problem(objective, constraint)\n",
    "problem.solve(solver=cp.ECOS)\n",
    "\n",
    "print(\"Optimal value:\", problem.value)\n",
    "print(\"Optimal variable x:\", x.value)\n",
    "print(\"Optimal variable y:\", y.value)\n",
    "\n"
   ]
  },
  {
   "cell_type": "code",
   "execution_count": 26,
   "metadata": {},
   "outputs": [],
   "source": [
    "def optimal_power(n, a_val, b_val, P_tot=1.0, W_tot=1.0):\n",
    "    # 输入参数: α 和 β 是 R_i 方程中的常数\n",
    "    n = len(a_val)\n",
    "    if n != len(b_val):\n",
    "        print('alpha 和 beta 向量必须具有相同的长度！')\n",
    "        return 'failed', np.nan, np.nan, np.nan\n",
    "\n",
    "    P = cp.Variable(shape=n)\n",
    "    W = cp.Variable(shape=n)\n",
    "    alpha = cp.Parameter(shape=n)\n",
    "    beta = cp.Parameter(shape=n)\n",
    "    alpha.value = np.array(a_val)\n",
    "    beta.value = np.array(b_val)\n",
    "\n",
    "    # 这个函数将被用作目标函数，因此必须是 DCP 的；\n",
    "    # 即，内部的元素乘法必须发生在 kl_div 内部，\n",
    "    # 而不是外部，否则求解器无法知道它是 DCP 的...\n",
    "    R = cp.kl_div(cp.multiply(alpha, W),\n",
    "                  cp.multiply(alpha, W + cp.multiply(beta, P))) - \\\n",
    "                  cp.multiply(alpha, cp.multiply(beta, P))\n",
    "\n",
    "    objective = cp.Minimize(cp.sum(R))\n",
    "    constraints = [P>=0.0,\n",
    "                   W>=0.0,\n",
    "                   cp.sum(P)-P_tot==0.0,\n",
    "                   cp.sum(W)-W_tot==0.0]\n",
    "\n",
    "    prob = cp.Problem(objective, constraints)\n",
    "    prob.solve()\n",
    "\n",
    "    return prob.status, -prob.value, P.value, W.value"
   ]
  },
  {
   "cell_type": "code",
   "execution_count": 27,
   "metadata": {},
   "outputs": [
    {
     "name": "stdout",
     "output_type": "stream",
     "text": [
      "状态: optimal\n",
      "最优效用值 = 2.451\n",
      "最优功率水平:\n",
      "[1.416e-09 2.139e-09 3.519e-09 8.464e-09 5.000e-01]\n",
      "最优带宽:\n",
      "[3.665e-09 4.761e-09 7.223e-09 1.672e-08 1.000e+00]\n"
     ]
    },
    {
     "name": "stderr",
     "output_type": "stream",
     "text": [
      "d:\\Program\\Anaconda\\envs\\spin\\lib\\site-packages\\cvxpy\\reductions\\solvers\\solving_chain.py:237: UserWarning: You are solving a parameterized problem that is not DPP. Because the problem is not DPP, subsequent solves will not be faster than the first one. For more information, see the documentation on Disciplined Parametrized Programming, at https://www.cvxpy.org/tutorial/dpp/index.html\n",
      "  warnings.warn(DPP_ERROR_MSG)\n"
     ]
    }
   ],
   "source": [
    "np.set_printoptions(precision=3)\n",
    "n = 5               # 系统中接收器的数量\n",
    "\n",
    "a_val = np.arange(10,n+10)/(1.0*n)  # α\n",
    "b_val = np.arange(10,n+10)/(1.0*n)  # β\n",
    "P_tot = 0.5\n",
    "W_tot = 1.0\n",
    "status, utility, power, bandwidth = optimal_power(n, a_val, b_val, P_tot, W_tot)\n",
    "\n",
    "print('状态: {}'.format(status))\n",
    "print('最优效用值 = {:.4g}'.format(utility))\n",
    "print('最优功率水平:\\n{}'.format(power))\n",
    "print('最优带宽:\\n{}'.format(bandwidth))"
   ]
  }
 ],
 "metadata": {
  "kernelspec": {
   "display_name": "spin",
   "language": "python",
   "name": "python3"
  },
  "language_info": {
   "codemirror_mode": {
    "name": "ipython",
    "version": 3
   },
   "file_extension": ".py",
   "mimetype": "text/x-python",
   "name": "python",
   "nbconvert_exporter": "python",
   "pygments_lexer": "ipython3",
   "version": "3.8.18"
  }
 },
 "nbformat": 4,
 "nbformat_minor": 2
}
